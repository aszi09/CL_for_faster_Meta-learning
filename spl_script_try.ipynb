{
 "cells": [
  {
   "cell_type": "code",
   "execution_count": 1,
   "metadata": {},
   "outputs": [
    {
     "name": "stderr",
     "output_type": "stream",
     "text": [
      "2024-05-21 21:49:16.412730: W external/xla/xla/service/gpu/nvptx_compiler.cc:718] The NVIDIA driver's CUDA version is 12.2 which is older than the ptxas CUDA version (12.4.131). Because the driver is older than the ptxas version, XLA is disabling parallel compilation, which may slow down compilation. You should update your NVIDIA driver or use the NVIDIA-provided CUDA forward compatibility packages.\n",
      "/home/aszi/Github/CL_for_faster_Meta-learning/.venv/lib/python3.10/site-packages/tqdm/auto.py:21: TqdmWarning: IProgress not found. Please update jupyter and ipywidgets. See https://ipywidgets.readthedocs.io/en/stable/user_install.html\n",
      "  from .autonotebook import tqdm as notebook_tqdm\n",
      "/home/aszi/Github/CL_for_faster_Meta-learning/.venv/lib/python3.10/site-packages/jax/_src/api_util.py:174: SyntaxWarning: Jitted function has static_argnums=(1, 2), but only accepts 2 positional arguments. This warning will be replaced by an error after 2022-08-20 at the earliest.\n",
      "  warnings.warn(f\"Jitted function has {argnums_name}={argnums}, \"\n",
      "/home/aszi/Github/CL_for_faster_Meta-learning/.venv/lib/python3.10/site-packages/jax/_src/api_util.py:174: SyntaxWarning: Jitted function has static_argnums=(1, 2, 3, 4), but only accepts 4 positional arguments. This warning will be replaced by an error after 2022-08-20 at the earliest.\n",
      "  warnings.warn(f\"Jitted function has {argnums_name}={argnums}, \"\n"
     ]
    }
   ],
   "source": [
    "from typing import Callable, Sequence, Any\n",
    "from functools import partial\n",
    "import os\n",
    "os.environ[\"XLA_PYTHON_CLIENT_PREALLOCATE\"] = \"false\"\n",
    "\n",
    "from aa_train_utils.model_utils import create_model, save_model_params, load_model_params\n",
    "from aa_train_utils.dataset_generation import joint, uniform, f2, RegressionDataset , generate_noisy_split_trainingdata\n",
    "from aa_train_utils.spl_curriculum import SPL_curriculum \n",
    "\n",
    "import jax\n",
    "import jax.numpy as jnp\n",
    "import jax.tree_util\n",
    "import pickle\n",
    "from torch.utils.data import Dataset\n",
    "from torch.utils.data import Subset\n",
    "\n",
    "import numpy as np\n",
    "import pickle\n",
    "import flax\n",
    "import flax.linen as nn\n",
    "\n",
    "import optax\n",
    "import jaxopt\n",
    "import netket as nk\n",
    "\n",
    "import tqdm\n",
    "\n",
    "import matplotlib.pyplot as plt\n",
    "import seaborn as sns\n",
    "\n",
    "from torch.utils.data import DataLoader\n",
    "\n",
    "from functions import Fourier, Mixture, Slope, Polynomial, WhiteNoise, Shift\n",
    "from networks import MixtureNeuralProcess, MLP, MeanAggregator, SequenceAggregator, NonLinearMVN, ResBlock\n",
    "#from dataloader import MixtureDataset\n",
    "\n",
    "from jax.tree_util import tree_map\n",
    "from torch.utils import data\n",
    "\n"
   ]
  },
  {
   "cell_type": "code",
   "execution_count": 4,
   "metadata": {},
   "outputs": [],
   "source": [
    "\"\"\" TODO:\n",
    "\n",
    "    - Add validation set to the training loop and log it (In distribution , out of task distribution validations?)\n",
    "\n",
    "    - Determine how to make sure that SPL curricula and Baseline trains on the same amount of data, as currently SPL doesnt train for same steps with the same epoch number (Maybe introduce a trainined_step_number to cut the training?)\n",
    "\n",
    "    - Create the empirical cross entropy difficulty measure and use it for the validation set as well. \n",
    "\n",
    "    - SPL curriculum call with best_params or just params for the loss calculation based ordering?\n",
    "\n",
    "    - Additionally maybe increase the difficulty of the dataset a bit , for smoother learning curve, more interesting results? \n",
    "        - Could also look into creating a more diverse dataset , the split dataset generator would allow for that easily. \n",
    "\n",
    "\n",
    "\"\"\"\n",
    "\n",
    "def train_spl_curriculum(dataset_key_int, dataset_size, training_step_number, sampler_ratios, chunk_size, save_path ,  model_name, start_rate, growth_epochs):\n",
    "    \n",
    "    \"\"\" Training function for the SPL curriculum based Neural Process model training\"\"\"\n",
    "\n",
    "\n",
    "\n",
    "    # Lets define the training functions here and not in their own files, because I couldnt make them modular enough.\n",
    "    # (The posterior loss was relying on the global variable model, I tried creating a partial with the params not included to have the scan carry over a new param based partial to the step function but it wasnt working, this works for now)\n",
    "\n",
    "    def posterior_loss(\n",
    "        params: flax.typing.VariableDict,\n",
    "        batch,\n",
    "        key: flax.typing.PRNGKey,\n",
    "    ):\n",
    "        key_data, key_model = jax.random.split(key)\n",
    "        \n",
    "\n",
    "\n",
    "        X = batch[0]\n",
    "        y = batch[1]\n",
    "        x_test = batch[2]\n",
    "        y_test = batch[3]\n",
    "        # Compute ELBO over batch of datasets\n",
    "        elbos = jax.vmap(\n",
    "        partial(\n",
    "                model.apply,\n",
    "                params,  \n",
    "                beta=kl_penalty,\n",
    "                k=num_posterior_mc,\n",
    "                method=model.elbo\n",
    "        ) \n",
    "        )(\n",
    "            X, y, x_test, y_test, rngs={'default': jax.random.split(key_model, X.shape[0])}\n",
    "        )\n",
    "        \n",
    "        return -elbos.mean()\n",
    "\n",
    "    @jax.jit\n",
    "    def step(\n",
    "        theta: flax.typing.VariableDict, \n",
    "        opt_state: optax.OptState,\n",
    "        current_batch,\n",
    "        random_key: flax.typing.PRNGKey,\n",
    "    ) -> tuple[flax.typing.VariableDict, optax.OptState, jax.Array]:\n",
    "        # Implements a generic SGD Step\n",
    "        \n",
    "        # value, grad = jax.value_and_grad(posterior_loss_filtered, argnums=0)(theta, random_key)\n",
    "        value, grad = jax.value_and_grad(posterior_loss, argnums=0)(theta, current_batch, random_key )\n",
    "        \n",
    "        updates, opt_state = optimizer.update(grad, opt_state, theta)\n",
    "        theta = optax.apply_updates(theta, updates)\n",
    "        \n",
    "        return theta, opt_state, value\n",
    "\n",
    "\n",
    "    def body_batch(carry, batch):\n",
    "        params, opt_state, key = carry\n",
    "        key_carry, key_step = jax.random.split(key)\n",
    "\n",
    "        X, x_test = jnp.split(batch[0], indices_or_sections=(num_context_samples, ), axis=1)\n",
    "        y, y_test = jnp.split(batch[1], indices_or_sections=(num_context_samples, ), axis=1)\n",
    "        params, opt_state, value = step(params, opt_state, (X,y, x_test,y_test ), key_step )\n",
    "\n",
    "        return (params, opt_state, key_carry ), value\n",
    "\n",
    "    jax.jit\n",
    "    def scan_train(params, opt_state, key,  batches):\n",
    "        \n",
    "        last, out = jax.lax.scan(body_batch, (params, opt_state, key ), batches)\n",
    "\n",
    "        params, opt_state, _ = last\n",
    "        \n",
    "        return params, opt_state, out\n",
    "\n",
    "\n",
    "    os.makedirs(save_path, exist_ok=True)\n",
    "    num_context_samples = 64\n",
    "    num_target_samples = 32\n",
    "    batch_size = 128\n",
    "    kl_penalty = 1e-4\n",
    "    num_posterior_mc = 1\n",
    "\n",
    "\n",
    "    # First lets create the dataset, \n",
    "    # Lets hardcode it for now, and then we can make it more flexible later on\n",
    "    \n",
    "    sampler_noise = partial(\n",
    "        joint, \n",
    "        WhiteNoise(f2, 0.1), \n",
    "        partial(uniform, n=num_target_samples + num_context_samples, bounds=(-1, 1))\n",
    "    )\n",
    "\n",
    "    sampler_clean = partial(\n",
    "        joint, \n",
    "        f2, \n",
    "        partial(uniform, n=num_target_samples + num_context_samples, bounds=(-1, 1))\n",
    "    )\n",
    "\n",
    "    samplers = [sampler_noise, sampler_clean]\n",
    "\n",
    "    dataset_key = jax.random.PRNGKey(dataset_key_int)\n",
    "    dataset = RegressionDataset(generate_noisy_split_trainingdata(samplers, sampler_ratios, dataset_size, chunk_size , dataset_key))\n",
    "\n",
    "    # Lets setup the SPL curriculum\n",
    "\n",
    "    rng , curricula_key = jax.random.split(dataset_key)\n",
    "    spl_curricula = SPL_curriculum(start_rate, growth_epochs , dataset, batch_size, curricula_key)\n",
    "\n",
    "\n",
    "\n",
    "    # Lets initalize the model we are going to train\n",
    "\n",
    "    rng, key = jax.random.split(rng)\n",
    "\n",
    "    model , params = create_model(key)\n",
    "    optimizer = optax.chain(\n",
    "        optax.clip(.1),\n",
    "        optax.clip_by_global_norm(1.0),\n",
    "        optax.adamw(learning_rate=1e-3, weight_decay=1e-6),\n",
    "    )\n",
    "    opt_state = optimizer.init(params)\n",
    "\n",
    "    best, best_params = jnp.inf, params\n",
    "    losses = list()\n",
    "\n",
    "    for i in (pbar := tqdm.trange(10 ,desc='Optimizing params. ')):\n",
    "        \n",
    "        rng, key = jax.random.split(rng)\n",
    "        model_partial_loss_function = partial(model.apply, params, beta=kl_penalty, k=num_posterior_mc, method=model.elbo) \n",
    "        batches = jnp.asarray( jax.tree_util.tree_map(lambda tensor : tensor.numpy(), [batch for batch in spl_curricula.data_curriculum(model_partial_loss_function, i, num_context_samples)]))\n",
    "        # params_new, opt_state, loss = step(params, opt_state, key)\n",
    "        params_new, opt_state, loss_arr = scan_train(params, opt_state, key,batches)\n",
    "\n",
    "        losses.extend(loss_arr)\n",
    "\n",
    "        if loss_arr.min() < best:\n",
    "            best = loss_arr.min()\n",
    "            best_params = params_new\n",
    "        \n",
    "        if jnp.isnan(loss_arr).any():\n",
    "            break\n",
    "        else:\n",
    "            params = params_new\n",
    "        \n",
    "        pbar.set_description(f'Optimizing params. Loss: {loss_arr.min():.4f}')\n",
    "\n",
    "    # Lets save what we need to save for the model and training. \n",
    "\n",
    "    ### After training we should save  \n",
    "        # the model parameters with a name that we know how it was trained\n",
    "        # the losses and other relevant information accrued during training\n",
    "        # the curriculum weight log for the dataset\n",
    "\n",
    "    # Saving the model params\n",
    "    # We could also save opt_state here for later training\n",
    "    # Also after trying out whether the training would continue saving and loading the params back in I saw change in printed loss. Not sure why that is the case,\n",
    "    # Even if I restore the opt_state as well. Regardless, the model continued training so saving the params is enough to use the model for evaluation later on. \n",
    "    \n",
    "    save_model_params(best_params,save_path, model_name) \n",
    "    \n",
    "    with open(os.path.join(save_path, model_name + '_curricula_weights.pkl'), 'wb') as f:\n",
    "        if(len(spl_curricula.weight_log)>0):\n",
    "            pickle.dump(spl_curricula.weight_log, f)\n",
    "    \n",
    "    with open(os.path.join(save_path, model_name + '_training_metrics.pkl'), 'wb') as f:\n",
    "        pickle.dump(losses, f)\n",
    "\n"
   ]
  },
  {
   "cell_type": "code",
   "execution_count": 5,
   "metadata": {},
   "outputs": [
    {
     "name": "stderr",
     "output_type": "stream",
     "text": [
      "Optimizing params. :   0%|          | 0/10 [00:00<?, ?it/s]"
     ]
    },
    {
     "name": "stdout",
     "output_type": "stream",
     "text": [
      "curr_data_size 128 curr_data_rate 0.1 epoch number 0\n",
      "sorted indices shape (128,)\n"
     ]
    },
    {
     "name": "stderr",
     "output_type": "stream",
     "text": [
      "Optimizing params. Loss: 2.2638:  10%|█         | 1/10 [00:05<00:45,  5.10s/it]"
     ]
    },
    {
     "name": "stdout",
     "output_type": "stream",
     "text": [
      "curr_data_size 358 curr_data_rate 0.28 epoch number 1\n",
      "sorted indices shape (358,)\n"
     ]
    },
    {
     "name": "stderr",
     "output_type": "stream",
     "text": [
      "Optimizing params. Loss: 1.8237:  20%|██        | 2/10 [00:10<00:40,  5.12s/it]"
     ]
    },
    {
     "name": "stdout",
     "output_type": "stream",
     "text": [
      "curr_data_size 588 curr_data_rate 0.45999999999999996 epoch number 2\n",
      "sorted indices shape (588,)\n"
     ]
    },
    {
     "name": "stderr",
     "output_type": "stream",
     "text": [
      "Optimizing params. Loss: 1.5176:  30%|███       | 3/10 [00:15<00:36,  5.22s/it]"
     ]
    },
    {
     "name": "stdout",
     "output_type": "stream",
     "text": [
      "curr_data_size 819 curr_data_rate 0.64 epoch number 3\n",
      "sorted indices shape (819,)\n"
     ]
    },
    {
     "name": "stderr",
     "output_type": "stream",
     "text": [
      "Optimizing params. Loss: 1.4126:  40%|████      | 4/10 [00:21<00:31,  5.32s/it]"
     ]
    },
    {
     "name": "stdout",
     "output_type": "stream",
     "text": [
      "curr_data_size 1049 curr_data_rate 0.82 epoch number 4\n",
      "sorted indices shape (1049,)\n"
     ]
    },
    {
     "name": "stderr",
     "output_type": "stream",
     "text": [
      "Optimizing params. Loss: 1.2859:  50%|█████     | 5/10 [00:26<00:27,  5.49s/it]"
     ]
    },
    {
     "name": "stdout",
     "output_type": "stream",
     "text": [
      "curr_data_size 1279 curr_data_rate 0.9999999999999999 epoch number 5\n",
      "sorted indices shape (1279,)\n"
     ]
    },
    {
     "name": "stderr",
     "output_type": "stream",
     "text": [
      "Optimizing params. Loss: 1.0973:  60%|██████    | 6/10 [00:32<00:22,  5.65s/it]"
     ]
    },
    {
     "name": "stdout",
     "output_type": "stream",
     "text": [
      "curr_data_size 1280 curr_data_rate 1.0 epoch number 6\n",
      "sorted indices shape (1280,)\n"
     ]
    },
    {
     "name": "stderr",
     "output_type": "stream",
     "text": [
      "Optimizing params. Loss: 1.0096:  70%|███████   | 7/10 [00:39<00:17,  5.84s/it]"
     ]
    },
    {
     "name": "stdout",
     "output_type": "stream",
     "text": [
      "curr_data_size 1280 curr_data_rate 1.0 epoch number 7\n",
      "sorted indices shape (1280,)\n"
     ]
    },
    {
     "name": "stderr",
     "output_type": "stream",
     "text": [
      "Optimizing params. Loss: 0.9251:  80%|████████  | 8/10 [00:41<00:09,  4.85s/it]"
     ]
    },
    {
     "name": "stdout",
     "output_type": "stream",
     "text": [
      "curr_data_size 1280 curr_data_rate 1.0 epoch number 8\n",
      "sorted indices shape (1280,)\n"
     ]
    },
    {
     "name": "stderr",
     "output_type": "stream",
     "text": [
      "Optimizing params. Loss: 0.9446:  90%|█████████ | 9/10 [00:44<00:04,  4.16s/it]"
     ]
    },
    {
     "name": "stdout",
     "output_type": "stream",
     "text": [
      "curr_data_size 1280 curr_data_rate 1.0 epoch number 9\n",
      "sorted indices shape (1280,)\n"
     ]
    },
    {
     "name": "stderr",
     "output_type": "stream",
     "text": [
      "Optimizing params. Loss: 0.8827: 100%|██████████| 10/10 [00:46<00:00,  4.69s/it]\n"
     ]
    }
   ],
   "source": [
    "\n",
    "train_spl_curriculum(0, 128*10, 10, [0.3,0.7], 128, \"./spl_training_data/\", \"spl_model_0\", 0.1, 5)"
   ]
  },
  {
   "cell_type": "code",
   "execution_count": 5,
   "metadata": {},
   "outputs": [
    {
     "name": "stdout",
     "output_type": "stream",
     "text": [
      "[(128,), (358,), (588,), (819,), (1049,), (1279,), (1280,), (1280,), (1280,), (1280,)]\n",
      "------\n",
      "{'params': {'embed_both': {'Dense_0': {'bias': (64,), 'kernel': (128, 64)}, 'Dense_1': {'bias': (64,), 'kernel': (64, 64)}, 'LayerNorm_0': {'bias': (64,), 'scale': (64,)}, 'LayerNorm_1': {'bias': (64,), 'scale': (64,)}}, 'embed_xs': {'Dense_0': {'bias': (64,), 'kernel': (1, 64)}, 'Dense_1': {'bias': (64,), 'kernel': (64, 64)}, 'LayerNorm_0': {'bias': (64,), 'scale': (64,)}, 'LayerNorm_1': {'bias': (64,), 'scale': (64,)}}, 'embed_ys': {'Dense_0': {'bias': (64,), 'kernel': (1, 64)}, 'Dense_1': {'bias': (64,), 'kernel': (64, 64)}, 'LayerNorm_0': {'bias': (64,), 'scale': (64,)}, 'LayerNorm_1': {'bias': (64,), 'scale': (64,)}}, 'likelihood': {'projection': {'layers_0': {'LayerNorm_0': {'bias': (128,), 'scale': (128,)}, 'module': {'Dense_0': {'bias': (128,), 'kernel': (128, 128)}, 'Dense_1': {'bias': (128,), 'kernel': (128, 128)}, 'LayerNorm_0': {'bias': (128,), 'scale': (128,)}, 'LayerNorm_1': {'bias': (128,), 'scale': (128,)}}}, 'layers_1': {'LayerNorm_0': {'bias': (128,), 'scale': (128,)}, 'module': {'Dense_0': {'bias': (128,), 'kernel': (128, 128)}, 'Dense_1': {'bias': (128,), 'kernel': (128, 128)}, 'LayerNorm_0': {'bias': (128,), 'scale': (128,)}, 'LayerNorm_1': {'bias': (128,), 'scale': (128,)}}}, 'layers_2': {'bias': (2,), 'kernel': (128, 2)}}}, 'posterior_fun': {'likelihood': {'projection': {'Dense_0': {'bias': (128,), 'kernel': (64, 128)}, 'Dense_1': {'bias': (64,), 'kernel': (128, 64)}, 'LayerNorm_0': {'bias': (128,), 'scale': (128,)}}}}}}\n"
     ]
    },
    {
     "data": {
      "image/png": "[encoded data removed]",
      "text/plain": [
       "<Figure size 640x480 with 1 Axes>"
      ]
     },
     "metadata": {},
     "output_type": "display_data"
    }
   ],
   "source": [
    "# Lets check if the necessary savings happened nicely\n",
    "\n",
    "# First the curriculum weights. \n",
    "\n",
    "with open(\"./spl_training_data/spl_model_0_curricula_weights.pkl\", 'rb') as f:\n",
    "    weight_log = pickle.load(f)\n",
    "\n",
    "print([w.shape for w in weight_log])\n",
    "print(\"------\")\n",
    "\n",
    "# Now the training metrics\n",
    "\n",
    "with open(\"./spl_training_data/spl_model_0_training_metrics.pkl\", 'rb') as f:\n",
    "    losses = pickle.load(f)\n",
    "\n",
    "plt.plot(losses)\n",
    "plt.plot(jnp.ufunc(jnp.minimum, nin=2, nout=1).accumulate(jnp.asarray(losses)))\n",
    "plt.grid()\n",
    "\n",
    "# Finally the model params\n",
    "\n",
    "params = load_model_params(\"./spl_training_data/spl_model_0.pkl\")\n",
    "\n",
    "print(jax.tree_util.tree_map(lambda x: x.shape, params))"
   ]
  },
  {
   "cell_type": "code",
   "execution_count": null,
   "metadata": {},
   "outputs": [],
   "source": []
  }
 ],
 "metadata": {
  "kernelspec": {
   "display_name": ".venv",
   "language": "python",
   "name": "python3"
  },
  "language_info": {
   "codemirror_mode": {
    "name": "ipython",
    "version": 3
   },
   "file_extension": ".py",
   "mimetype": "text/x-python",
   "name": "python",
   "nbconvert_exporter": "python",
   "pygments_lexer": "ipython3",
   "version": "3.10.12"
  }
 },
 "nbformat": 4,
 "nbformat_minor": 2
}
